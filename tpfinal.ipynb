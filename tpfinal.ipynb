{
 "cells": [
  {
   "cell_type": "markdown",
   "id": "398bb24a",
   "metadata": {},
   "source": [
    "# <center>**Trabajo Práctico Final**</center>\n",
    "\n",
    "### <center>**Predicción de accidentes cerebrovasculares**</center>\n",
    "\n",
    "#### <center>Aprendizaje de máquina - CEIA, Fiuba</center>\n",
    "\n",
    "---\n",
    "\n",
    "**Integrantes del grupo**\n",
    "\n",
    "- Espínola, Carla\n",
    "- Gambarte, Antonella\n",
    "- Putrino, Daniela\n",
    "- Silvera, Ricardo\n",
    "\n",
    "---\n"
   ]
  },
  {
   "cell_type": "markdown",
   "id": "c018b9b1",
   "metadata": {},
   "source": [
    "## **Presentación**\n",
    "\n",
    "El siguiente proyecto tiene como finalidad realizar un análisis comparativo de distintos modelos con el fin de predecir si una persona puede tener un acv o no. Para ello usaremos el Stroke Prediction Dataset disponible en Kaggle.\n",
    "\n",
    "Link al dataset: [https://www.kaggle.com/datasets/fedesoriano/stroke-prediction-dataset](https://www.kaggle.com/datasets/fedesoriano/stroke-prediction-dataset)\n",
    "\n",
    "Se abordará el análisis exploratorio de los datos, su preprocesamiento y preparación, el empleo de distintos modelos para la predicción y la evaluación de los resultados obtenidos.\n"
   ]
  },
  {
   "cell_type": "markdown",
   "id": "c1821263",
   "metadata": {},
   "source": [
    "## **Análisis Exploratorio de Datos**\n",
    "\n",
    "### Bibliotecas\n"
   ]
  },
  {
   "cell_type": "code",
   "execution_count": null,
   "id": "f7d41f1c",
   "metadata": {},
   "outputs": [],
   "source": [
    "import pandas as pd\n",
    "import matplotlib.pyplot as plt\n",
    "import seaborn as sns\n",
    "from sklearn.model_selection import train_test_split\n",
    "from sklearn.preprocessing import OneHotEncoder\n",
    "import numpy as np\n",
    "from sklearn.metrics import confusion_matrix\n",
    "from imblearn.over_sampling import RandomOverSampler"
   ]
  },
  {
   "cell_type": "markdown",
   "id": "5e595054",
   "metadata": {},
   "source": [
    "### Carga de dataset\n"
   ]
  },
  {
   "cell_type": "code",
   "execution_count": null,
   "id": "ed59ec64",
   "metadata": {},
   "outputs": [],
   "source": [
    "df_stroke = pd.read_csv(\"dataset/healthcare-dataset-stroke-data.csv\")\n",
    "df_stroke.head()"
   ]
  },
  {
   "cell_type": "markdown",
   "id": "966cd694",
   "metadata": {},
   "source": [
    "### Cantidad de variables y observaciones\n"
   ]
  },
  {
   "cell_type": "code",
   "execution_count": null,
   "id": "c6592735",
   "metadata": {},
   "outputs": [],
   "source": [
    "filas,columnas = df_stroke.shape\n",
    "print(f\"El DataFrame tiene {filas} observaciones y {columnas} variables.\")"
   ]
  },
  {
   "cell_type": "code",
   "execution_count": null,
   "id": "d37c19be",
   "metadata": {},
   "outputs": [],
   "source": [
    "df_stroke.info()"
   ]
  },
  {
   "cell_type": "markdown",
   "id": "b76346fa",
   "metadata": {},
   "source": [
    "Primero eliminamos la columna id por tratarse de un identificador único que no aporta valor predictivo ni analítico.\n"
   ]
  },
  {
   "cell_type": "code",
   "execution_count": null,
   "id": "2361c968",
   "metadata": {},
   "outputs": [],
   "source": [
    "df_stroke = df_stroke.drop(columns=['id'])"
   ]
  },
  {
   "cell_type": "markdown",
   "id": "2c5241fe",
   "metadata": {},
   "source": [
    "### Analizamos si hay duplicados y nulos\n"
   ]
  },
  {
   "cell_type": "code",
   "execution_count": null,
   "id": "5cc82de0",
   "metadata": {},
   "outputs": [],
   "source": [
    "print(\"Cantidad de datos duplicados:\", df_stroke.duplicated().sum())"
   ]
  },
  {
   "cell_type": "code",
   "execution_count": null,
   "id": "c16ce70a",
   "metadata": {},
   "outputs": [],
   "source": [
    "porcentaje_nulos = df_stroke.isna().mean().round(4) * 100\n",
    "\n",
    "plt.figure(figsize=(10, 6))\n",
    "porcentaje_nulos.plot(kind='barh', color='steelblue',edgecolor='black')\n",
    "\n",
    "plt.title('Porcentaje de valores nulos por columna')\n",
    "plt.xlabel('Porcentaje de valores nulos (%)')\n",
    "plt.ylabel('Columnas')\n",
    "\n",
    "for index, value in enumerate(porcentaje_nulos):\n",
    "    plt.text(value + 0.5, index, f'{value:.2f}%', va='center')\n",
    "\n",
    "plt.tight_layout()\n",
    "plt.show()"
   ]
  },
  {
   "cell_type": "markdown",
   "id": "ee159668",
   "metadata": {},
   "source": [
    "Como se observa, la única variable con valores nulos es la de bmi.\n",
    "\n",
    "Vamos a hacer una comparativa de los faltantes respecto a distintos grupos etarios. Esta información nos va a servir en la etapa de preprocesamiento y preparación de datos para elegir el tratamientos adecuado.\n"
   ]
  },
  {
   "cell_type": "code",
   "execution_count": null,
   "id": "376b4a8b",
   "metadata": {},
   "outputs": [],
   "source": [
    "df_temp = df_stroke.copy()\n",
    "df_temp[\"bmi_missing\"] = df_temp[\"bmi\"].isnull()\n",
    "\n",
    "# Grupos de edad\n",
    "bins = [0, 25, 40, 60, df_stroke[\"age\"].max() + 1]\n",
    "labels = [\"0-25\", \"25-40\", \"40-60\", \"60+\"]\n",
    "df_temp[\"age_group\"] = pd.cut(df_temp[\"age\"], bins=bins, labels=labels, right=False)\n",
    "\n",
    "# Calculamos proporciones dentro de cada grupo\n",
    "prop_by_group = (\n",
    "    df_temp.groupby([\"age_group\", \"bmi_missing\"], observed=True)\n",
    "    .size()\n",
    "    .groupby(level=0, observed=True)\n",
    "    .apply(lambda x: x / x.sum())\n",
    "    .unstack()\n",
    ")\n",
    "\n",
    "# Gráfico de barras apiladas\n",
    "prop_by_group.plot(kind=\"bar\", stacked=True, figsize=(8,5), color=[\"steelblue\", \"orange\"])\n",
    "plt.ylabel(\"Proporción de registros\")\n",
    "plt.xlabel(\"Grupo de edad\")\n",
    "plt.title(\"Proporción de registros con y sin BMI por grupo de edad\")\n",
    "plt.legend([\"Tiene BMI\", \"Falta BMI\"])\n",
    "plt.tight_layout()\n",
    "plt.show()"
   ]
  },
  {
   "cell_type": "markdown",
   "id": "f67ee74f",
   "metadata": {},
   "source": [
    "Observamos que los datos faltantes de BMI aumentan con la edad, por lo que se deduce que exite una dependencia de los faltantes con la edad.\n"
   ]
  },
  {
   "cell_type": "markdown",
   "id": "4dfb33b6",
   "metadata": {},
   "source": [
    "### Estadísticas\n"
   ]
  },
  {
   "cell_type": "code",
   "execution_count": null,
   "id": "888a5551",
   "metadata": {},
   "outputs": [],
   "source": [
    "df_stroke.describe()"
   ]
  },
  {
   "cell_type": "markdown",
   "id": "f625adfa",
   "metadata": {},
   "source": [
    "Para hypertension, heart_disease y el target stroke, se observa un desbalanceo. Analizaremos mirando los histogramas.\n"
   ]
  },
  {
   "cell_type": "code",
   "execution_count": null,
   "id": "e50c872f",
   "metadata": {},
   "outputs": [],
   "source": [
    "df_stroke.hist(figsize=(15, 12), bins=50, edgecolor='black')\n",
    "plt.suptitle('Histogramas de Atributos y Target')\n",
    "plt.tight_layout(rect=[0, 0.03, 1, 0.95])\n",
    "plt.show()"
   ]
  },
  {
   "cell_type": "markdown",
   "id": "a5903c06",
   "metadata": {},
   "source": [
    "Claramente hypertension, heart_disease y el target stroke se encuentran muy desbalanceadas. En cuanto a avg_glucose_level tiene una distribución asimétrica positiva y BMI tiene una distribución más simétrica, con forma de campana (aproximadamente normal).\n",
    "\n",
    "Vamos a analizar los valores altos que tienen bmi y avg_glucose_level para saber si contiene outliers o no.\n"
   ]
  },
  {
   "cell_type": "code",
   "execution_count": null,
   "id": "f57f4f02",
   "metadata": {},
   "outputs": [],
   "source": [
    "num_cols= ['avg_glucose_level','bmi']\n",
    "outlier_summary = {}\n",
    "plt.figure(figsize=(12, len(num_cols)*3))\n",
    "for i, col in enumerate(num_cols, 1):\n",
    "    plt.subplot(len(num_cols), 1, i)\n",
    "    sns.boxplot(x=df_stroke[col])\n",
    "    plt.title(f'Boxplot: {col}')\n",
    "    q1 = df_stroke[col].quantile(0.25)\n",
    "    q3 = df_stroke[col].quantile(0.75)\n",
    "    iqr = q3 - q1\n",
    "    lb = q1 - 1.5*iqr\n",
    "    ub = q3 + 1.5*iqr\n",
    "    outlier_summary[col] = int(((df_stroke[col] < lb) | (df_stroke[col] > ub)).sum())\n",
    "plt.tight_layout()\n",
    "outlier_summary"
   ]
  },
  {
   "cell_type": "markdown",
   "id": "99665a2e",
   "metadata": {},
   "source": [
    "A primera vista existen muchos outliers. Vamos a hacer una comparativa de esas varibles con el target stroke, para saber si existe una relación entre los valores altos de glucosa y masa corporal con las personas que tuvieron acv.\n"
   ]
  },
  {
   "cell_type": "code",
   "execution_count": null,
   "id": "862e1cf2",
   "metadata": {},
   "outputs": [],
   "source": [
    "# Boxplot para glucosa\n",
    "plt.figure(figsize=(10, 5))\n",
    "sns.boxplot(data=df_stroke, x='stroke', y='avg_glucose_level')\n",
    "plt.title('Nivel de glucosa promedio según presencia de ACV')\n",
    "plt.xlabel('ACV (0 = No, 1 = Sí)')\n",
    "plt.ylabel('Nivel promedio de glucosa')\n",
    "plt.show()\n",
    "\n",
    "# Boxplot para BMI\n",
    "plt.figure(figsize=(10, 5))\n",
    "sns.boxplot(data=df_stroke, x='stroke', y='bmi')\n",
    "plt.title('IMC según presencia de ACV')\n",
    "plt.xlabel('ACV (0 = No, 1 = Sí)')\n",
    "plt.ylabel('IMC')\n",
    "plt.show()"
   ]
  },
  {
   "cell_type": "code",
   "execution_count": null,
   "id": "f41c288d",
   "metadata": {},
   "outputs": [],
   "source": [
    "corr_matrix = df_stroke[['avg_glucose_level', 'bmi', 'stroke']].corr()\n",
    "plt.figure(figsize=(6, 4))\n",
    "sns.heatmap(corr_matrix, annot=True, cmap='coolwarm', fmt='.2f', linewidths=0.5)\n",
    "plt.title('Mapa de calor de correlación')\n",
    "plt.tight_layout()\n",
    "plt.show()\n"
   ]
  },
  {
   "cell_type": "markdown",
   "id": "b0a6f753",
   "metadata": {},
   "source": [
    "Observando los gráficos anteriores vemos que el nivel de glucosa alto es la variable más relacionada con stroke, aunque su correlación es baja.\n",
    "BMI apenas se relaciona con stroke.\n"
   ]
  },
  {
   "cell_type": "markdown",
   "id": "64b6b595",
   "metadata": {},
   "source": [
    "Ahora empleamos la matriz de correlación para analizar las posibles relaciones entre las distintas varibles numéricas.\n"
   ]
  },
  {
   "cell_type": "code",
   "execution_count": null,
   "id": "3a824b49",
   "metadata": {},
   "outputs": [],
   "source": [
    "num_cols = df_stroke.select_dtypes(include=['number']).columns.drop('stroke')\n",
    "corr = df_stroke[num_cols.union(['stroke'])].corr()\n",
    "plt.figure(figsize=(8,6))\n",
    "sns.heatmap(corr, annot=True, fmt=\".2f\", cmap=sns.color_palette(\"Blues\", as_cmap=True), center=0)\n",
    "plt.title('Correlation matrix (numeric features + target)')\n",
    "plt.show()\n",
    "\n",
    "corr_with_target = corr['stroke'].sort_values(ascending=False)\n",
    "corr_with_target"
   ]
  },
  {
   "cell_type": "markdown",
   "id": "03db2054",
   "metadata": {},
   "source": [
    "Vemos que la edad es factor más relacionado con la presencia de ACV, seguido por niveles de glucosa promedio, hipertensión y enfermedad cardíaca, aunque todas con correlaciones débiles. Por el contrario, el IMC no muestra una relación significativa con el ACV en esta muestra.\n",
    "\n",
    "En términos generales, las variables numéricas no presentan alta colinealidad entre sí, lo que sugiere que pueden aportar información independiente en modelos predictivos.\n"
   ]
  },
  {
   "cell_type": "markdown",
   "id": "b1d1e17b",
   "metadata": {},
   "source": [
    "### Análsis de variables categóricas\n"
   ]
  },
  {
   "cell_type": "code",
   "execution_count": null,
   "id": "67557cc5",
   "metadata": {},
   "outputs": [],
   "source": [
    "# Lista de columnas\n",
    "cols = ['gender', 'ever_married', 'work_type', 'Residence_type', 'smoking_status']\n",
    "titles = ['Distribución por género', 'Distribución por estado civil', 'Distribución por tipo de trabajo', \n",
    "          'Distribución por tipo de residencia', 'Distribución por estado de fumador']\n",
    "\n",
    "fig, axes = plt.subplots(2, 3, figsize=(16, 8))  \n",
    "axes = axes.flatten()\n",
    "\n",
    "for i, (col, title) in enumerate(zip(cols, titles)):\n",
    "    sns.countplot(data=df_stroke, x=col, ax=axes[i])\n",
    "    axes[i].set_title(title)\n",
    "    axes[i].tick_params(axis='x', rotation=45)\n",
    "\n",
    "if len(cols) < len(axes):\n",
    "    for j in range(len(cols), len(axes)):\n",
    "        fig.delaxes(axes[j])\n",
    "\n",
    "plt.tight_layout()\n",
    "plt.show()\n"
   ]
  },
  {
   "cell_type": "markdown",
   "id": "774a3763",
   "metadata": {},
   "source": [
    "Observaciones relevantes:\n",
    "\n",
    "- Para género, existe una categoría \"Other\" que esta presente en una proporción pequeña.\n",
    "- Para tipo de trabajo, también existe una categoría \"Never worked\" que esta presente en una pequeña proporción.\n",
    "- En cuanto al estado civil, exite una desbalance, pero que consideramos aceptable.\n",
    "- Para el estado del fumador, existe una categoría \"Unknown\" que, dado que tiene una cantidad considerable de datos si comparamos con las demás. Vamos a tratarla como una categoría más.\n"
   ]
  },
  {
   "cell_type": "markdown",
   "id": "b8e69714",
   "metadata": {},
   "source": [
    "## **Preprocesamiento y Preparación de Datos**\n",
    "\n",
    "Como primer paso, dividimos el dataset en train y test a fin de evitar el data leakage\n"
   ]
  },
  {
   "cell_type": "code",
   "execution_count": null,
   "id": "b8dcee45",
   "metadata": {},
   "outputs": [],
   "source": [
    "X = df_stroke.drop(\"stroke\", axis=1)\n",
    "y = df_stroke[\"stroke\"]"
   ]
  },
  {
   "cell_type": "code",
   "execution_count": null,
   "id": "816032f0",
   "metadata": {},
   "outputs": [],
   "source": [
    "X_train, X_test, y_train, y_test = train_test_split(\n",
    "    X, y, test_size=0.2, random_state=42, stratify=y\n",
    ")"
   ]
  },
  {
   "cell_type": "markdown",
   "id": "fd5ca7cd",
   "metadata": {},
   "source": [
    "### Tratamiento de nulos\n",
    "\n",
    "Dado que los faltantes en BMI representan sólo el 3.93% y como resultado del análisis de faltantes con respecto a la edad, decimos imputar los faltantes con la mediana por grupo de edad.\n"
   ]
  },
  {
   "cell_type": "code",
   "execution_count": null,
   "id": "9561b075",
   "metadata": {},
   "outputs": [],
   "source": [
    "# Definimos grupos de edad\n",
    "bins = [0, 25, 40, 60, df_stroke[\"age\"].max() + 1]\n",
    "labels = [\"0–25\", \"25–40\", \"40–60\", \"60+\"]\n",
    "\n",
    "X_train[\"age_group\"] = pd.cut(X_train[\"age\"], bins=bins, labels=labels, right=False)\n",
    "X_test[\"age_group\"] = pd.cut(X_test[\"age\"], bins=bins, labels=labels, right=False)\n",
    "\n",
    "# Calculamos mediana de bmi por grupo solo en train\n",
    "group_medians = X_train.groupby(\"age_group\", observed=True)[\"bmi\"].median()\n",
    "\n",
    "# Función para imputar usando las medianas del train\n",
    "def imputar_bmi(row):\n",
    "    if pd.isnull(row[\"bmi\"]):\n",
    "        return group_medians.get(row[\"age_group\"], X_train[\"bmi\"].median())\n",
    "    else:\n",
    "        return row[\"bmi\"]\n",
    "\n",
    "# Aplicamos en train y test\n",
    "X_train[\"bmi\"] = X_train.apply(imputar_bmi, axis=1)\n",
    "X_test[\"bmi\"] = X_test.apply(imputar_bmi, axis=1)\n",
    "\n",
    "\n",
    "X_train.drop(columns=\"age_group\", inplace=True)\n",
    "X_test.drop(columns=\"age_group\", inplace=True)\n"
   ]
  },
  {
   "cell_type": "markdown",
   "id": "a00efd7e",
   "metadata": {},
   "source": [
    "### Outliers\n",
    "\n",
    "Para BMI vamos a hacer una trasformación logarítmica para disminuir el impacto de los outliers.\n"
   ]
  },
  {
   "cell_type": "code",
   "execution_count": null,
   "id": "d58fe5d0",
   "metadata": {},
   "outputs": [],
   "source": [
    "X_train['bmi'] = np.log1p(X_train['bmi'])\n",
    "X_test['bmi'] = np.log1p(X_test['bmi'])"
   ]
  },
  {
   "cell_type": "markdown",
   "id": "e64b24f3",
   "metadata": {},
   "source": [
    "PREGUNTA: Faltaría el nivel de glucosa. No se que sugieren que hagamos con eso. O se lo ve cuando hagamos los modelos.\n"
   ]
  },
  {
   "cell_type": "markdown",
   "id": "ad0a5078",
   "metadata": {},
   "source": [
    "### Variables categoricas\n",
    "\n",
    "- Gender: Contamos cuantos hay por cada categoría.\n"
   ]
  },
  {
   "cell_type": "code",
   "execution_count": null,
   "id": "3c5864a1",
   "metadata": {},
   "outputs": [],
   "source": [
    "df_stroke['gender'].value_counts()"
   ]
  },
  {
   "cell_type": "markdown",
   "id": "96696e97",
   "metadata": {},
   "source": [
    "Como existe solo una fila con género \"Other\", decidimos fusionarlo con la categoría \"Female\" que es la que tiene más presencia y así minimizamos el impacto en la dispersión de datos.\n"
   ]
  },
  {
   "cell_type": "code",
   "execution_count": null,
   "id": "7150cde5",
   "metadata": {},
   "outputs": [],
   "source": [
    "print(X_train['gender'].value_counts())\n",
    "print(X_test['gender'].value_counts())\n"
   ]
  },
  {
   "cell_type": "code",
   "execution_count": null,
   "id": "cde404b9",
   "metadata": {},
   "outputs": [],
   "source": [
    "X_train['gender'] = X_train['gender'].replace('Other', 'Female')"
   ]
  },
  {
   "cell_type": "markdown",
   "id": "cc5fbba0",
   "metadata": {},
   "source": [
    "Para codificar los datos usamos One-Hot Encoding\n"
   ]
  },
  {
   "cell_type": "code",
   "execution_count": null,
   "id": "84eb949d",
   "metadata": {},
   "outputs": [],
   "source": [
    "encoder = OneHotEncoder(sparse_output=False)\n",
    "X_train_encoded = encoder.fit_transform(X_train[['gender']])\n",
    "X_test_encoded = encoder.transform(X_test[['gender']])\n",
    "\n",
    "encoded_cols = encoder.get_feature_names_out(['gender'])\n",
    "X_train_encoded_df = pd.DataFrame(X_train_encoded, columns=encoded_cols, index=X_train.index)\n",
    "X_test_encoded_df = pd.DataFrame(X_test_encoded, columns=encoded_cols, index=X_test.index)\n",
    "\n",
    "X_train = X_train.drop(columns=['gender']).join(X_train_encoded_df)\n",
    "X_test = X_test.drop(columns=['gender']).join(X_test_encoded_df)\n"
   ]
  },
  {
   "cell_type": "markdown",
   "id": "8c4d4740",
   "metadata": {},
   "source": [
    "- Residence_type: aplicamos One-Hot Encoding\n"
   ]
  },
  {
   "cell_type": "code",
   "execution_count": null,
   "id": "086dbd67",
   "metadata": {},
   "outputs": [],
   "source": [
    "\n",
    "encoder_res = OneHotEncoder(sparse_output=False, handle_unknown='ignore')\n",
    "\n",
    "X_train_encoded_res = encoder_res.fit_transform(X_train[['Residence_type']])\n",
    "X_test_encoded_res = encoder_res.transform(X_test[['Residence_type']])\n",
    "\n",
    "encoded_cols_res = encoder_res.get_feature_names_out(['Residence_type'])\n",
    "X_train_encoded_res_df = pd.DataFrame(X_train_encoded_res, columns=encoded_cols_res, index=X_train.index)\n",
    "X_test_encoded_res_df = pd.DataFrame(X_test_encoded_res, columns=encoded_cols_res, index=X_test.index)\n",
    "\n",
    "X_train = X_train.drop(columns=['Residence_type']).join(X_train_encoded_res_df)\n",
    "X_test = X_test.drop(columns=['Residence_type']).join(X_test_encoded_res_df)\n"
   ]
  },
  {
   "cell_type": "markdown",
   "id": "3201aec1",
   "metadata": {},
   "source": [
    "- ever_married: codificación manual donde Yes=1 y No=0\n"
   ]
  },
  {
   "cell_type": "code",
   "execution_count": null,
   "id": "4a4d158d",
   "metadata": {},
   "outputs": [],
   "source": [
    "X_train['ever_married'] = X_train['ever_married'].map({'No': 0, 'Yes': 1})\n",
    "X_test['ever_married'] = X_test['ever_married'].map({'No': 0, 'Yes': 1})"
   ]
  },
  {
   "cell_type": "markdown",
   "id": "6b30d2dd",
   "metadata": {},
   "source": [
    "- smoking_status\n",
    "\n",
    "PREGUNTA: Dejamos las 4?. o agrupamos \"formerly smoked\" y \"smokes\" por un lado y \"never smoked\" y \"Unknown\" por otro?. Mas que nada por la cantidad de columna que se generan\n"
   ]
  },
  {
   "cell_type": "code",
   "execution_count": null,
   "id": "a4e19ff5",
   "metadata": {},
   "outputs": [],
   "source": [
    "X_train['smok']"
   ]
  },
  {
   "cell_type": "code",
   "execution_count": null,
   "id": "9de484d9",
   "metadata": {},
   "outputs": [],
   "source": [
    "encoder_smoke = OneHotEncoder(sparse_output=False, handle_unknown='ignore')\n",
    "\n",
    "X_train_encoded_smoke = encoder_smoke.fit_transform(X_train[['smoking_status']])\n",
    "X_test_encoded_smoke = encoder_smoke.transform(X_test[['smoking_status']])\n",
    "\n",
    "encoded_cols_smoke = encoder_smoke.get_feature_names_out(['smoking_status'])\n",
    "X_train_encoded_smoke_df = pd.DataFrame(X_train_encoded_smoke, columns=encoded_cols_smoke, index=X_train.index)\n",
    "X_test_encoded_smoke_df = pd.DataFrame(X_test_encoded_smoke, columns=encoded_cols_smoke, index=X_test.index)\n",
    "\n",
    "\n",
    "X_train = X_train.drop(columns=['smoking_status']).join(X_train_encoded_smoke_df)\n",
    "X_test = X_test.drop(columns=['smoking_status']).join(X_test_encoded_smoke_df)\n"
   ]
  },
  {
   "cell_type": "markdown",
   "id": "1d37f123",
   "metadata": {},
   "source": [
    "- work_type: analizamos primero la cantidad de \"Never_worked\"\n"
   ]
  },
  {
   "cell_type": "code",
   "execution_count": null,
   "id": "319cbda2",
   "metadata": {},
   "outputs": [],
   "source": [
    "count_never_worked_train = (X_train['work_type'] == 'Never_worked').sum()\n",
    "count_never_worked_test = (X_test['work_type'] == 'Never_worked').sum()\n",
    "\n",
    "print(f\"Never_worked en train: {count_never_worked_train}\")\n",
    "print(f\"Never_worked en test: {count_never_worked_test}\")\n"
   ]
  },
  {
   "cell_type": "markdown",
   "id": "50b690d9",
   "metadata": {},
   "source": [
    "PREGUNTA: No se que les parece hacer esto a continuación?\n",
    "\n",
    "No exiten muchos presentes. Optamos por unirlos a la categoría \"Children\" ya que esta es una categoría que indica que no trabaja activamente.\n"
   ]
  },
  {
   "cell_type": "code",
   "execution_count": null,
   "id": "51500ed4",
   "metadata": {},
   "outputs": [],
   "source": [
    "X_train['work_type'] = X_train['work_type'].replace('Never_worked', 'Children')\n",
    "X_test['work_type'] = X_test['work_type'].replace('Never_worked', 'Children')"
   ]
  },
  {
   "cell_type": "code",
   "execution_count": null,
   "id": "bab0c55e",
   "metadata": {},
   "outputs": [],
   "source": [
    "encoder_work = OneHotEncoder(sparse_output=False, handle_unknown='ignore')\n",
    "\n",
    "X_train_encoded_work = encoder_work.fit_transform(X_train[['work_type']])\n",
    "X_test_encoded_work = encoder_work.transform(X_test[['work_type']])\n",
    "\n",
    "\n",
    "encoded_cols_work = encoder_work.get_feature_names_out(['work_type'])\n",
    "X_train_encoded_work_df = pd.DataFrame(X_train_encoded_work, columns=encoded_cols_work, index=X_train.index)\n",
    "X_test_encoded_work_df = pd.DataFrame(X_test_encoded_work, columns=encoded_cols_work, index=X_test.index)\n",
    "\n",
    "\n",
    "X_train = X_train.drop(columns=['work_type']).join(X_train_encoded_work_df)\n",
    "X_test = X_test.drop(columns=['work_type']).join(X_test_encoded_work_df)\n"
   ]
  },
  {
   "cell_type": "code",
   "execution_count": null,
   "id": "d383dc3b",
   "metadata": {},
   "outputs": [],
   "source": [
    "X_train.head()"
   ]
  },
  {
   "cell_type": "markdown",
   "id": "96f40bca",
   "metadata": {},
   "source": [
    "## **Modelización**\n"
   ]
  },
  {
   "cell_type": "markdown",
   "id": "6d8bb8e7",
   "metadata": {},
   "source": [
    "## Árbol de Clasificación"
   ]
  },
  {
   "cell_type": "markdown",
   "id": "3eae86b7",
   "metadata": {},
   "source": [
    "Implementamos un modelo de Árbol de Clasificación, sabiendo a priori que este modelo no es recomendable cuando los datos de entrada están desbalanceados, como es nuestro caso, pero el motivo de esta decisión fue con fines experimentales que permitan comprobar en la práctica el comportamiento de este modelo en la situación planteada.\n",
    "\n",
    "Desarrollamos una implementación desde cero, sin usar librerías que implementen el modelo, para ello definimos dos clases:\n",
    "\n",
    "1) **Nodo**: Es el núcleo fundamental de este algoritmo y el que constituye la estructura básica del árbol de clasificación. Cada nodo puede ser:\n",
    "\n",
    "- Un nodo de decisión (con feature, threshold, y nodos hijos left/right)\n",
    "\n",
    "- Un nodo hoja (con value que representa la clase predicha)\n",
    "\n",
    "\n",
    "\n",
    "2) **ArbolClasificacion**: Contiene la lógica codificada para la construcción del árbol de clasificación en base a los datos de entrada y los parámetros (entrenamiento) y metodos auxilizares para esta construcción y recuperación de la una predicción. Esta clase consiste en los siguientes métodos:\n",
    "- init : El constructor de la clase, permite instanciar un árbol de clasificación y establecer los hiperparámetros:\n",
    "    - max_depth: profundidad máxima del árbol\n",
    "\n",
    "    - min_samples_split: número mínimo de muestras requeridas para dividir un nodo\n",
    "\n",
    "    - criterio: métrica para evaluar la calidad de las divisiones (‘gini’ o ‘entropia’)\n",
    "    \n",
    "    - _gini/_entropia: Implementaciones de las métricas para evaluar las divisiones\n",
    "    \n",
    "    -  _best_split: Encuentra la mejor división posible para un nodo evaluando todos los posibles puntos de corte\n",
    "    \n",
    "    - _build_tree: Construye recursivamente el árbol hasta alcanzar las condiciones de parada\n",
    "    \n",
    "    - fit: Entrena el modelo con los datos de entrada y los targets\n",
    "    \n",
    "    - predict: Realiza predicciones para nuevas muestras\n",
    "    \n",
    "    - metricas (estático): Proporciona evaluación del modelo mediante:\n",
    "        - Accuracy score\n",
    "        - Matriz de confusión \n",
    "        - Reporte de clasificación \n",
    "\n",
    "\n",
    "Tambien incluimos condiciones de parada parametrizables:\n",
    "- Alcanzar una profundidad máxima\n",
    "- Tener menos muestras que min_samples_split\n",
    "\n",
    "\n",
    "Este enfoque nos permite comprender en profundidad el funcionamiento interno de los árboles de decisión, sus ventajas y limitaciones, particularmente en escenarios con datos desbalanceados.\n"
   ]
  },
  {
   "cell_type": "code",
   "execution_count": null,
   "id": "cbf15b6c",
   "metadata": {},
   "outputs": [],
   "source": [
    "\n",
    "class Nodo:\n",
    "    def __init__(self, feature=None, threshold=None, left=None, right=None, value=None):\n",
    "        self.feature = feature\n",
    "        self.threshold = threshold\n",
    "        self.left = left\n",
    "        self.right = right\n",
    "        self.value = value\n",
    "\n",
    "class ArbolClasificacion:\n",
    "    def __init__(self, max_depth=3, min_samples_split=100, criterio='gini'):\n",
    "        self.max_depth = max_depth\n",
    "        self.min_samples_split = min_samples_split\n",
    "        if criterio not in ['gini', 'entropia']:\n",
    "            raise ValueError(\"El criterio debe ser 'gini' o 'entropia'\")\n",
    "        self.criterio = criterio\n",
    "        self.root = None\n",
    "\n",
    "    @staticmethod\n",
    "    def metricas(y_test,y_pred):\n",
    "        from sklearn.metrics import accuracy_score, confusion_matrix, classification_report\n",
    "        # Evaluación del árbol de clasificación\n",
    "        print('Métricas del Árbol de Clasificacion:')\n",
    "        print('Accuracy:', accuracy_score(y_test, y_pred))\n",
    "        print('\\nReporte de clasificación:')\n",
    "        print(classification_report(y_test, y_pred, digits=4))\n",
    "\n",
    "                \n",
    "        matriz = confusion_matrix(y_test, y_pred)\n",
    "        plt.figure(figsize=(5,4))\n",
    "        sns.heatmap(matriz, annot=True, fmt='d', cmap='Blues', cbar=False)\n",
    "        plt.xlabel('Predicción')\n",
    "        plt.ylabel('Real')\n",
    "        plt.title('Matriz de confusión - Árbol de Clasificacion')\n",
    "        plt.show()\n",
    "\n",
    "    def _gini(self, y):\n",
    "        clases = np.unique(y)\n",
    "        impurity = 1.0\n",
    "        for c in clases:\n",
    "            p = np.sum(y == c) / len(y)\n",
    "            impurity -= p ** 2\n",
    "        return impurity\n",
    "\n",
    "    def _entropia(self, y):\n",
    "        clases, counts = np.unique(y, return_counts=True)\n",
    "        probs = counts / len(y)\n",
    "        return -np.sum([p * np.log2(p) for p in probs if p > 0])\n",
    "\n",
    "    def _gini(self, y):\n",
    "        if self.criterio == 'gini':\n",
    "            return self._gini(y)\n",
    "        else:\n",
    "            return self._entropia(y)\n",
    "\n",
    "    def _best_split(self, X, y):\n",
    "        best_score = np.inf if self.criterio == 'entropia' else 1\n",
    "        best_idx, best_thr = None, None\n",
    "        n_samples, n_features = X.shape\n",
    "        for feature in range(n_features):\n",
    "            thresholds = np.unique(X[:, feature])\n",
    "            for t in thresholds:\n",
    "                y_left = y[X[:, feature] <= t]\n",
    "                y_right = y[X[:, feature] > t]\n",
    "                if len(y_left) == 0 or len(y_right) == 0:\n",
    "                    continue\n",
    "                score = (len(y_left) * self._gini(y_left) + len(y_right) * self._gini(y_right)) / n_samples\n",
    "                if (self.criterio == 'gini' and score < best_score) or (self.criterio == 'entropia' and score < best_score):\n",
    "                    best_score = score\n",
    "                    best_idx = feature\n",
    "                    best_thr = t\n",
    "        return best_idx, best_thr\n",
    "\n",
    "    def _build_tree(self, X, y, depth):\n",
    "        if len(set(y)) == 1 or depth >= self.max_depth or len(y) < self.min_samples_split:\n",
    "            value = np.bincount(y).argmax()\n",
    "            return Nodo(value=value)\n",
    "        feature, threshold = self._best_split(X, y)\n",
    "        if feature is None:\n",
    "            value = np.bincount(y).argmax()\n",
    "            return Nodo(value=value)\n",
    "        idx_left = X[:, feature] <= threshold\n",
    "        left = self._build_tree(X[idx_left], y[idx_left], depth + 1)\n",
    "        right = self._build_tree(X[~idx_left], y[~idx_left], depth + 1)\n",
    "        return Nodo(feature, threshold, left, right)\n",
    "\n",
    "    def fit(self, X, y):\n",
    "        self.root = self._build_tree(np.array(X), np.array(y), 0)\n",
    "\n",
    "    def _predict_one(self, x, node):\n",
    "        if node.value is not None:\n",
    "            return node.value\n",
    "        if x[node.feature] <= node.threshold:\n",
    "            return self._predict_one(x, node.left)\n",
    "        else:\n",
    "            return self._predict_one(x, node.right)\n",
    "\n",
    "    def predict(self, X):\n",
    "        return np.array([self._predict_one(x, self.root) for x in np.array(X)])\n",
    "    \n"
   ]
  },
  {
   "attachments": {
    "image.png": {
     "image/png": "[encoded data removed]"
    }
   },
   "cell_type": "markdown",
   "id": "86fc2149",
   "metadata": {},
   "source": [
    "Elegimos entrenar el árbol de clasificación utilizando el criterio de entropía porque este mide la pureza de los nodos considerando la cantidad de información necesaria para clasificar correctamente las muestras. Si bien también implementamos el criterio Gini, en conjuntos de datos desbalanceados como el nuestro, la entropía es más adecuada ya que es más sensible a la presencia de clases minoritarias. Esto permite que el árbol favorezca divisiones que ayuden a identificar mejor los casos menos frecuentes, en lugar de priorizar únicamente la clase mayoritaria. Así, el uso de entropía contribuye a obtener un modelo más equilibrado en términos de sensibilidad y especificidad.\n",
    "\n",
    "![image.png](attachment:image.png)"
   ]
  },
  {
   "cell_type": "markdown",
   "id": "b9e0d855",
   "metadata": {},
   "source": [
    "Entrenaos el modelo y mostramos los resultados obtenidos"
   ]
  },
  {
   "cell_type": "code",
   "execution_count": null,
   "id": "4d2d0b72",
   "metadata": {},
   "outputs": [],
   "source": [
    "arbol_entropia = ArbolClasificacion(max_depth=3, criterio='entropia')\n",
    "arbol_entropia.fit(X_train, y_train)\n",
    "y_pred_entropia = arbol_entropia.predict(X_test)\n",
    "\n",
    "ArbolClasificacion.metricas(y_test, y_pred_entropia)"
   ]
  },
  {
   "cell_type": "markdown",
   "id": "708bbe3a",
   "metadata": {},
   "source": [
    "El resultado muestra una **accuracy** de 0.95, lo que se podría mal interpretar como un excelente desempeño. Pero al analizar los otros indicadores se observa que:\n",
    "- Para la clase 1 (ACV), tanto la precisión como el recall son 0.00, es decir, el modelo no logra identificar ningún caso positivo correctamente.\n",
    "- El **f1-score** para la clase 1 también es 0.00, lo que confirma que el modelo no es útil para detectar la ocurrencia de ACV.\n",
    "\n",
    "Esto se debe al gran desbalance de clase que existe en el dataset. A continuación vamos a  aplicar una técnica de balanceo de clases para mejorar la sensibilidad hacia la clase minoritaria."
   ]
  },
  {
   "cell_type": "markdown",
   "id": "3dc7cde5",
   "metadata": {},
   "source": [
    "#### Oversampling\n",
    "\n",
    "Utilizamos la clase RanmOverSampler de la librería imblearn para generar muestras sintéticas y disminuir los efectos del desbalance de clases en el entrenamiento del modelo y analizar los resultados."
   ]
  },
  {
   "cell_type": "code",
   "execution_count": null,
   "id": "720153a7",
   "metadata": {},
   "outputs": [],
   "source": [
    "# Aplicamos sobremuestreo solo al dataset de entrenamiento\n",
    "ros = RandomOverSampler(random_state=42)\n",
    "X_train_bal, y_train_bal = ros.fit_resample(X_train, y_train)\n",
    "\n",
    "print('Distribución original:', y_train.value_counts().to_dict())\n",
    "print('Distribución balanceada:', y_train_bal.value_counts().to_dict())\n"
   ]
  },
  {
   "cell_type": "code",
   "execution_count": null,
   "id": "3528b107",
   "metadata": {},
   "outputs": [],
   "source": [
    "# Entrenar árbol sobre datos balanceados\n",
    "arbol_entropia_bal = ArbolClasificacion(max_depth=3, criterio='entropia')\n",
    "arbol_entropia_bal.fit(X_train_bal, y_train_bal)\n",
    "y_pred_entropia_bal = arbol_entropia_bal.predict(X_test)\n",
    "\n",
    "ArbolClasificacion.metricas(y_test, y_pred_entropia_bal)"
   ]
  },
  {
   "cell_type": "markdown",
   "id": "db0c65f1",
   "metadata": {},
   "source": [
    "Luego de aplicar oversampling para balancear las clases en el set de entrenamiento, el árbol de clasificación muestra un cambio significativo en su comportamiento:\n",
    "        \n",
    "- La **accuracy** general baja a 0.76, lo que puede parecer una disminución del desempeño, pero en realidad refleja que el modelo ahora está intentando identificar ambas clases.\n",
    "\n",
    "- Vemos que se incrementan coniderablemente los Falsos Positivos, de 2 a 235, pero si bien la presición es (0.14) para la clase 1 (ACV), el recall es del 0.78, es decir que el modelo pudo identidficar correctamente a tres cuartas partes de los casos positivos.\n",
    "\n",
    "El modelo balanceado es mucho más útil desde el punto de vista de su finalidad de diagnostigo, ya que logra detectar la mayoría de los casos de ACV (alta sensibilidad), aunque a costa de aumentar los falsos positivos. En problemas donde la clase minoritaria es crítica (como la detección de ACV), suele ser preferible a un modelo que ignora completamente los casos positivos. El balanceo de los datos permitió que el árbol de clasificación aprenda patrones de la clase minoritaria y mejore su capacidad de detección, pero este comportamiento puede tratarse de un sobre-ajuste \n",
    "  "
   ]
  },
  {
   "cell_type": "markdown",
   "id": "bc6a8a7d",
   "metadata": {},
   "source": [
    "## **Evaluación de Resultados**\n"
   ]
  }
 ],
 "metadata": {
  "kernelspec": {
   "display_name": ".venv",
   "language": "python",
   "name": "python3"
  },
  "language_info": {
   "codemirror_mode": {
    "name": "ipython",
    "version": 3
   },
   "file_extension": ".py",
   "mimetype": "text/x-python",
   "name": "python",
   "nbconvert_exporter": "python",
   "pygments_lexer": "ipython3",
   "version": "3.12.3"
  }
 },
 "nbformat": 4,
 "nbformat_minor": 5
}
