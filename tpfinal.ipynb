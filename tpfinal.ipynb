{
 "cells": [
  {
   "cell_type": "markdown",
   "id": "398bb24a",
   "metadata": {},
   "source": [
    "# <center>**Trabajo Práctico Final**</center>\n",
    "\n",
    "### <center>**Predicción de accidentes cerebrovasculares**</center>\n",
    "\n",
    "#### <center>Aprendizaje de máquina - CEIA, Fiuba</center>\n",
    "\n",
    "---\n",
    "\n",
    "**Integrantes del grupo**\n",
    "\n",
    "- Espínola, Carla\n",
    "- Gambarte, Antonella\n",
    "- Putrino, Daniela\n",
    "- Silvera, Ricardo\n",
    "\n",
    "---\n"
   ]
  }
 ],
 "metadata": {
  "language_info": {
   "name": "python"
  }
 },
 "nbformat": 4,
 "nbformat_minor": 5
}
